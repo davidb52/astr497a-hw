{
 "cells": [
  {
   "cell_type": "code",
   "execution_count": null,
   "metadata": {
    "collapsed": true
   },
   "outputs": [],
   "source": [
    "import numpy as np\n",
    "import matplotlib.pyplot as plt\n",
    "\n",
    "%pylab inline "
   ]
  },
  {
   "cell_type": "code",
   "execution_count": null,
   "metadata": {
    "collapsed": true
   },
   "outputs": [],
   "source": [
    "import os\n",
    "from lsd import DB\n",
    "import lsd.bounds as b\n",
    "db = DB(os.environ['LSD_DB'])\n",
    "rows=db.query('ra,dec,r from sdss where (g-r>0.4)&(r>20.00)&(r<=22.00').fetch()"
   ]
  },
  {
   "cell_type": "code",
   "execution_count": null,
   "metadata": {
    "collapsed": true
   },
   "outputs": [],
   "source": [
    "#masks\n",
    "u_mask=np.where((rows.r>20.00)&(rows.r<=20.66))\n",
    "g_mask=np.where((rows.r>20.66)&(rows.r<=21.33))\n",
    "r_mask=np.where((rows.r>21.33)&(rows.r<=22.00))\n",
    "\n",
    "#bins\n",
    "ra_range=np.ceil(rows.ra.max()-rows.ra.min())             #rounded up number of degrees for \n",
    "dec_range=np.ceil(rows.dec.max()-rows.dec.min())          # RA and DEC \n",
    "\n",
    "ra_bins=ra_range*2.0                                      #Approximate 0.5 X 0.5 degree binning\n",
    "dec_bins=dec_range*2.0\n",
    "\n",
    "#binning stars with 'r,g,b' masking\n",
    "U_stars,xe,xy=np.histogram2d(rows.ra[u_mask],rows.dec[u_mask],bins=(ra_bins,dec_bins))\n",
    "G_stars,xe,xy=np.histogram2d(rows.ra[g_mask],rows.dec[g_mask],bins=(ra_bins,dec_bins))\n",
    "R_stars,xe,xy=np.histogram2d(rows.ra[r_mask],rows.dec[r_mask],bins=(ra_bins,dec_bins))"
   ]
  },
  {
   "cell_type": "code",
   "execution_count": null,
   "metadata": {
    "collapsed": true
   },
   "outputs": [],
   "source": [
    "rgb_frame=np.dstack((R_stars/R_stars.max(),G_stars/G_stars.max(),U_stars/U_stars.max()))\n",
    "ext=[rows.ra.min(),rows.ra.max(),rows.dec.min(),rows.dec.max()]\n",
    "fig,ax=plt.subplots()\n",
    "ax.set_xlim(rows.ra.max(),rows.ra.min())\n",
    "\n",
    "ax.set_xlabel('RA')\n",
    "ax.set_ylabel('Dec')\n",
    "\n",
    "ax.imshow(rgb_frame,extent=ext,aspect='auto',interpolation=None)\n",
    "fig.set_size_inches(10,5)\n",
    "fig.savefig('field_of_streams.png',dpi=200)"
   ]
  }
 ],
 "metadata": {
  "kernelspec": {
   "display_name": "Python 2",
   "language": "python",
   "name": "python2"
  },
  "language_info": {
   "codemirror_mode": {
    "name": "ipython",
    "version": 2
   },
   "file_extension": ".py",
   "mimetype": "text/x-python",
   "name": "python",
   "nbconvert_exporter": "python",
   "pygments_lexer": "ipython2",
   "version": "2.7.9"
  }
 },
 "nbformat": 4,
 "nbformat_minor": 0
}
